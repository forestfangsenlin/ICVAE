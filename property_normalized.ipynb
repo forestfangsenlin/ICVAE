{
 "cells": [
  {
   "cell_type": "code",
   "execution_count": 1,
   "id": "d9af09b4",
   "metadata": {},
   "outputs": [],
   "source": [
    "from rdkit.Chem.Crippen import MolLogP\n",
    "from rdkit import Chem\n",
    "import h5py\n",
    "from scipy import stats\n",
    "from utils import decode_smiles_from_indexes, load_dataset\n",
    "import numpy as np\n",
    "from rdkit.Chem.Descriptors import ExactMolWt"
   ]
  },
  {
   "cell_type": "code",
   "execution_count": 2,
   "id": "1d21156c",
   "metadata": {},
   "outputs": [],
   "source": [
    "y_train = np.load(\"./prop_np/weight/y_train.npy\")\n",
    "y_test = np.load(\"./prop_np/weight/y_test.npy\")"
   ]
  },
  {
   "cell_type": "code",
   "execution_count": 8,
   "id": "02454175",
   "metadata": {},
   "outputs": [
    {
     "data": {
      "text/plain": [
       "150.025169192"
      ]
     },
     "execution_count": 8,
     "metadata": {},
     "output_type": "execute_result"
    }
   ],
   "source": [
    "np.min(y)"
   ]
  },
  {
   "cell_type": "code",
   "execution_count": 9,
   "id": "531bffea",
   "metadata": {},
   "outputs": [
    {
     "data": {
      "text/plain": [
       "201.12958056818"
      ]
     },
     "execution_count": 9,
     "metadata": {},
     "output_type": "execute_result"
    }
   ],
   "source": [
    "351.15474976018 - 150.025169192"
   ]
  },
  {
   "cell_type": "code",
   "execution_count": 4,
   "id": "e9c15b23",
   "metadata": {},
   "outputs": [],
   "source": [
    "y = np.concatenate((y_train, y_test))"
   ]
  },
  {
   "cell_type": "code",
   "execution_count": 5,
   "id": "b0aaa4b9",
   "metadata": {},
   "outputs": [],
   "source": [
    "y_norm = 500*(y - np.min(y))/(np.max(y)-np.min(y))"
   ]
  },
  {
   "cell_type": "code",
   "execution_count": 6,
   "id": "16d08b68",
   "metadata": {},
   "outputs": [],
   "source": [
    "y_train_norm = y_norm[:40000]\n",
    "y_test_norm = y_norm[40000:]"
   ]
  },
  {
   "cell_type": "code",
   "execution_count": 7,
   "id": "a1df8de5",
   "metadata": {},
   "outputs": [],
   "source": [
    "np.save(\"./prop_np/weight/y_train_norm.npy\", y_train_norm)\n",
    "np.save(\"./prop_np/weight/y_test_norm.npy\", y_test_norm)"
   ]
  }
 ],
 "metadata": {
  "kernelspec": {
   "display_name": "Python 3",
   "language": "python",
   "name": "python3"
  },
  "language_info": {
   "codemirror_mode": {
    "name": "ipython",
    "version": 3
   },
   "file_extension": ".py",
   "mimetype": "text/x-python",
   "name": "python",
   "nbconvert_exporter": "python",
   "pygments_lexer": "ipython3",
   "version": "3.6.13"
  }
 },
 "nbformat": 4,
 "nbformat_minor": 5
}
